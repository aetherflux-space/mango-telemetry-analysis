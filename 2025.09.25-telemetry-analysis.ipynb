{
 "cells": [
  {
   "cell_type": "markdown",
   "id": "1e2ebc98",
   "metadata": {},
   "source": [
    "## 2025.09.25 Telemetry investigation "
   ]
  },
  {
   "cell_type": "code",
   "execution_count": 6,
   "id": "69b24926",
   "metadata": {},
   "outputs": [],
   "source": [
    "from pymongo import MongoClient\n",
    "from datetime import datetime\n",
    "from pprint import pprint\n",
    "\n",
    "# MongoDB connection details (replace with your config values)\n",
    "MONGO_IP = \"127.0.0.1\"  # Replace with config.ip from your Rust code\n",
    "MONGO_PORT = 27017      # Replace with config.port\n",
    "MONGO_URI = f\"mongodb://{MONGO_IP}:{MONGO_PORT}/?authSource=admin\""
   ]
  },
  {
   "cell_type": "code",
   "execution_count": 9,
   "id": "f1a85d95",
   "metadata": {},
   "outputs": [
    {
     "name": "stdout",
     "output_type": "stream",
     "text": [
      "Connected to MongoDB successfully!\n"
     ]
    }
   ],
   "source": [
    "# Connect to MongoDB\n",
    "try:\n",
    "    client = MongoClient(MONGO_URI)\n",
    "    # Test the connection\n",
    "    client.server_info()  # Raises an error if connection fails\n",
    "    print(\"Connected to MongoDB successfully!\")\n",
    "except Exception as e:\n",
    "    print(f\"Failed to connect to MongoDB: {e}\")\n",
    "    exit(1)"
   ]
  },
  {
   "cell_type": "markdown",
   "id": "528d1215",
   "metadata": {},
   "source": [
    "## Access database and collection"
   ]
  },
  {
   "cell_type": "code",
   "execution_count": null,
   "id": "8d76a6ae",
   "metadata": {},
   "outputs": [],
   "source": [
    "# Access the database and collection\n",
    "db = client[\"flatsat\"]\n",
    "tlm_collection = db[\"tlm\"]"
   ]
  },
  {
   "cell_type": "code",
   "execution_count": 11,
   "id": "599d2c73",
   "metadata": {},
   "outputs": [
    {
     "data": {
      "text/plain": [
       "Collection(Database(MongoClient(host=['127.0.0.1:27017'], document_class=dict, tz_aware=False, connect=True, authsource='admin'), 'flatsat'), 'tlm')"
      ]
     },
     "execution_count": 11,
     "metadata": {},
     "output_type": "execute_result"
    }
   ],
   "source": [
    "tlm_collection"
   ]
  }
 ],
 "metadata": {
  "kernelspec": {
   "display_name": ".venv (3.13.7)",
   "language": "python",
   "name": "python3"
  },
  "language_info": {
   "codemirror_mode": {
    "name": "ipython",
    "version": 3
   },
   "file_extension": ".py",
   "mimetype": "text/x-python",
   "name": "python",
   "nbconvert_exporter": "python",
   "pygments_lexer": "ipython3",
   "version": "3.13.7"
  }
 },
 "nbformat": 4,
 "nbformat_minor": 5
}
